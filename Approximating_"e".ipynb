{
  "cells": [
    {
      "cell_type": "code",
      "execution_count": 7,
      "metadata": {
        "id": "-xmv2BArz1Ww"
      },
      "outputs": [],
      "source": [
        "import numpy as np\n",
        "from scipy.special import factorial\n",
        "import matplotlib.pyplot as plt"
      ]
    },
    {
      "cell_type": "code",
      "execution_count": 2,
      "metadata": {
        "id": "W-hx8gZH0isO"
      },
      "outputs": [],
      "source": [
        "def approximate(x, tolerance):\n",
        "  MAX_STEPS = 200\n",
        "  T_N = []\n",
        "  N = []\n",
        "  for xi in x:\n",
        "    taylor_xi = 0\n",
        "    N_i = 0\n",
        "    for i in range(MAX_STEPS):\n",
        "      taylor_xi+= (xi**i)/factorial(i)\n",
        "      N_i+=1\n",
        "      relative_error = abs(np.exp(xi)- taylor_xi)/abs(np.exp(xi))\n",
        "      if relative_error<tolerance:\n",
        "        T_N.append(taylor_xi)\n",
        "        N.append(N_i)\n",
        "        break\n",
        "  return T_N, N"
      ]
    },
    {
      "cell_type": "code",
      "execution_count": 14,
      "metadata": {
        "id": "k_uzisLq1mzS"
      },
      "outputs": [],
      "source": [
        "x = np.linspace(-1,1,100)\n",
        "tolerance = 4.0*np.finfo(float).eps\n",
        "result, N = approximate(x,tolerance)"
      ]
    },
    {
      "cell_type": "code",
      "execution_count": 15,
      "metadata": {
        "colab": {
          "base_uri": "https://localhost:8080/"
        },
        "id": "1Y9SWO652DHR",
        "outputId": "98373322-169e-4673-8487-a81c11f7a75f"
      },
      "outputs": [
        {
          "name": "stdout",
          "output_type": "stream",
          "text": [
            "The average amount of terms it took to get a relative error less than 8.881784197001252e-16 was:\n",
            "14.01\n"
          ]
        }
      ],
      "source": [
        "print('The average amount of terms it took to get a relative error less than', tolerance,'was:')\n",
        "print(np.mean(N))"
      ]
    },
    {
      "cell_type": "code",
      "execution_count": 18,
      "metadata": {
        "colab": {
          "base_uri": "https://localhost:8080/",
          "height": 297
        },
        "id": "F7I7cjf_2Oqw",
        "outputId": "928fcbbe-9f44-4db2-f02f-156eb01042b6"
      },
      "outputs": [
        {
          "data": {
            "image/png": "[encoded data removed]",
            "text/plain": [
              "<Figure size 432x288 with 1 Axes>"
            ]
          },
          "metadata": {
            "needs_background": "light"
          },
          "output_type": "display_data"
        }
      ],
      "source": [
        "plt.plot(x,result)\n",
        "plt.xlabel('$x$')\n",
        "plt.ylabel('$T_N(x)$')\n",
        "plt.title('Approximating $e$ using Taylor Series')\n",
        "plt.show()"
      ]
    },
    {
      "cell_type": "code",
      "execution_count": 19,
      "metadata": {
        "colab": {
          "base_uri": "https://localhost:8080/",
          "height": 279
        },
        "id": "x5MrKQB_24Jj",
        "outputId": "2cc0243c-8aa2-44c4-c7c9-1b81b5ff1ef8"
      },
      "outputs": [
        {
          "data": {
            "image/png": "[encoded data removed]",
            "text/plain": [
              "<Figure size 432x288 with 1 Axes>"
            ]
          },
          "metadata": {
            "needs_background": "light"
          },
          "output_type": "display_data"
        }
      ],
      "source": [
        "plt.plot(x, np.exp(x))\n",
        "plt.xlabel('$x$')\n",
        "plt.ylabel('$e^x$')\n",
        "plt.show()"
      ]
    },
    {
      "cell_type": "code",
      "execution_count": 22,
      "metadata": {
        "colab": {
          "base_uri": "https://localhost:8080/"
        },
        "id": "kDXRH2Vf3DEK",
        "outputId": "d1b5f3f7-f25a-4823-ca7b-3b64131aa769"
      },
      "outputs": [
        {
          "name": "stdout",
          "output_type": "stream",
          "text": [
            "Our Taylor Series Approximated e to the Desired Tolerance\n"
          ]
        }
      ],
      "source": [
        "assert(np.all(np.abs(np.exp(x)-result)/np.abs(np.exp(x))<tolerance))\n",
        "print('Our Taylor Series Approximated e to the Desired Tolerance')"
      ]
    }
  ],
  "metadata": {
    "colab": {
      "provenance": []
    },
    "interpreter": {
      "hash": "50292dbb1f747f7151d445135d392af3138fb3c65386d17d9510cb605222b10b"
    },
    "kernelspec": {
      "display_name": "Python 3.9.8 64-bit",
      "name": "python3"
    },
    "language_info": {
      "name": "python",
      "version": ""
    }
  },
  "nbformat": 4,
  "nbformat_minor": 0
}